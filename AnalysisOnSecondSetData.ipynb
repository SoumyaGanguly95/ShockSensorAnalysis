{
 "cells": [
  {
   "cell_type": "code",
   "execution_count": 1,
   "metadata": {},
   "outputs": [],
   "source": [
    "\n",
    "# Imports\n",
    "import matplotlib.pyplot as plt\n",
    "import numpy as np\n",
    "import pandas as pd\n",
    "import re\n",
    "from sklearn.cluster import KMeans\n",
    "from pykalman import KalmanFilter\n",
    "\n"
   ]
  },
  {
   "cell_type": "markdown",
   "metadata": {},
   "source": [
    "## Performing data cleaning steps on the second set of GPS and Shock Data"
   ]
  },
  {
   "cell_type": "markdown",
   "metadata": {},
   "source": [
    "#### Load and Analyze second set GPS Data"
   ]
  },
  {
   "cell_type": "code",
   "execution_count": 2,
   "metadata": {},
   "outputs": [
    {
     "name": "stdout",
     "output_type": "stream",
     "text": [
      "            Date      Time  Latitude  Longitude Speed TrackAngle\n",
      "3311  2023-05-10  00:00:00   53.9432    10.8564   0.1      75.36\n",
      "3312  2023-05-10  00:00:01   53.9432    10.8564  0.03      75.36\n",
      "3313  2023-05-10  00:00:02   53.9432    10.8564  0.02      75.36\n",
      "3314  2023-05-10  00:00:03   53.9432    10.8564  0.09      75.36\n",
      "3315  2023-05-10  00:00:04   53.9432    10.8564  0.05      75.36\n",
      "...          ...       ...       ...        ...   ...        ...\n",
      "68912 2023-05-10  21:59:54   53.8353    10.5099   0.6     203.21\n",
      "68913 2023-05-10  21:59:55   53.8353    10.5099  0.22     203.21\n",
      "68914 2023-05-10  21:59:56   53.8353    10.5099  0.31     203.21\n",
      "68915 2023-05-10  21:59:57   53.8353    10.5099  0.38     203.21\n",
      "68916 2023-05-10  21:59:58   53.8353    10.5099  0.45     203.21\n",
      "\n",
      "[65606 rows x 6 columns]\n"
     ]
    }
   ],
   "source": [
    "import pandas as pd\n",
    "\n",
    "# Load GPS data with path\n",
    "with open('./Data/2/GPS/gps_2023-05-10.log', 'r') as file:\n",
    "    lines = file.readlines()\n",
    "\n",
    "# Filtering out clean data \n",
    "cleaned_data = []\n",
    "for line in lines:\n",
    "    line = line.strip()\n",
    "    if line:\n",
    "        # Split the line by semicolon ';'\n",
    "        data_elements = line.split(';')\n",
    "        # Check if the line has exactly 7 elements and ends with a '/'\n",
    "        if len(data_elements) == 7 and data_elements[-1].strip() == '/':\n",
    "            # Append to the cleaned_data\n",
    "            cleaned_data.append(data_elements[:-1])  # Discard the last element (slash)\n",
    "\n",
    "# Create a DataFrame from the cleaned data\n",
    "column_names = ['Date', 'Time', 'Latitude', 'Longitude', 'Speed', 'TrackAngle']\n",
    "data_gps2 = pd.DataFrame(cleaned_data, columns=column_names)\n",
    "\n",
    "# Data cleaning and formatting\n",
    "data_gps2['Latitude'] = data_gps2['Latitude'].str.rstrip('N').astype(float)\n",
    "data_gps2['Longitude'] = data_gps2['Longitude'].str.rstrip('E').astype(float)\n",
    "data_gps2['Date'] = pd.to_datetime(data_gps2['Date'], format='%d/%m/%Y')\n",
    "data_gps2['Time'] = pd.to_datetime(data_gps2['Time'], format='%H:%M:%S').dt.time\n",
    "\n",
    "# Filter rows where the date is '2023-05-10'\n",
    "data_gps2 = data_gps2[data_gps2['Date'] == '2023-05-10']\n",
    "\n",
    "print(data_gps2)\n",
    "\n",
    "\n"
   ]
  },
  {
   "cell_type": "code",
   "execution_count": 3,
   "metadata": {},
   "outputs": [
    {
     "name": "stdout",
     "output_type": "stream",
     "text": [
      "Summary Statistics:\n",
      "                      Date      Latitude     Longitude\n",
      "count                65606  65606.000000  65606.000000\n",
      "mean   2023-05-10 00:00:00     53.872813     10.631215\n",
      "min    2023-05-10 00:00:00     53.820400     10.494500\n",
      "25%    2023-05-10 00:00:00     53.835100     10.509800\n",
      "50%    2023-05-10 00:00:00     53.835200     10.509900\n",
      "75%    2023-05-10 00:00:00     53.943200     10.856400\n",
      "max    2023-05-10 00:00:00     53.943300     10.856500\n",
      "std                    NaN      0.051281      0.164097\n"
     ]
    }
   ],
   "source": [
    "# Summary statistics\n",
    "print(\"Summary Statistics:\")\n",
    "print(data_gps2.describe())"
   ]
  },
  {
   "cell_type": "markdown",
   "metadata": {},
   "source": [
    "#### Load and Analyze second set Shock Data"
   ]
  },
  {
   "cell_type": "code",
   "execution_count": 4,
   "metadata": {},
   "outputs": [
    {
     "name": "stdout",
     "output_type": "stream",
     "text": [
      "Row 1 has non-numeric data. Discarding the row.\n",
      "Row 1994 does not have the correct number of columns. Discarding the row.\n",
      "Row 8850 does not have the correct number of columns. Discarding the row.\n",
      "Row 9936 does not have the correct number of columns. Discarding the row.\n",
      "Row 24329 does not have the correct number of columns. Discarding the row.\n",
      "Row 346150 does not have the correct number of columns. Discarding the row.\n"
     ]
    }
   ],
   "source": [
    "import pandas as pd\n",
    "\n",
    "# Replace 'your_data.txt' with the path to your data file\n",
    "with open('./Data/2/shock/shock_2023-05-10.log', 'r') as file:\n",
    "    lines = file.readlines()\n",
    "\n",
    "# Clean and process the lines\n",
    "cleaned_lines = []\n",
    "for line_idx, line in enumerate(lines):\n",
    "    line = line.strip()\n",
    "    if line:\n",
    "        # Split the line by semicolon ';'\n",
    "        data_elements = line.split(';')\n",
    "        # Check if the line has 8 elements (7 data columns + 1 timestamp)\n",
    "        if len(data_elements) == 8:\n",
    "            # Check if all elements in the row are numeric\n",
    "            if all(pd.to_numeric(pd.Series(data_elements), errors='coerce').notnull()):\n",
    "                # If all elements are numeric, keep the row\n",
    "                cleaned_lines.append(data_elements)\n",
    "            else:\n",
    "                print(f\"Row {line_idx+1} has non-numeric data. Discarding the row.\")\n",
    "        else:\n",
    "            print(f\"Row {line_idx+1} does not have the correct number of columns. Discarding the row.\")\n",
    "\n",
    "# Check if the first column name is 'Timestamp'\n",
    "if cleaned_lines[0][0] != 'Timestamp':\n",
    "    # Change the column names accordingly\n",
    "    column_names = ['Timestamp', 'AccelX', 'AccelY', 'AccelZ', 'GyroX', 'GyroY', 'GyroZ', 'Temperature']\n",
    "else:\n",
    "    column_names = cleaned_lines[0]\n",
    "\n",
    "# Create a DataFrame from the cleaned data\n",
    "data_shock2 = pd.DataFrame(cleaned_lines[1:], columns=column_names)\n",
    "\n",
    "# Convert the 'Timestamp' column to pandas Timestamp type (float64)\n",
    "data_shock2['Timestamp'] = pd.to_numeric(data_shock2['Timestamp'], errors='coerce')\n"
   ]
  },
  {
   "cell_type": "code",
   "execution_count": 5,
   "metadata": {},
   "outputs": [
    {
     "name": "stdout",
     "output_type": "stream",
     "text": [
      "           Timestamp     AccelX     AccelY    AccelZ     GyroX      GyroY  \\\n",
      "0       1.683670e+12   0.002776   0.000516  9.923157  0.009163  -0.003360   \n",
      "1       1.683670e+12   0.000230   0.000377  9.919678  0.008858  -0.003971   \n",
      "2       1.683670e+12  -0.000812   0.002910  9.923219  0.009163  -0.003665   \n",
      "3       1.683670e+12   0.002775   0.001711  9.923110  0.009163  -0.003665   \n",
      "4       1.683670e+12   0.003819  -0.003213  9.919663  0.009163  -0.003665   \n",
      "...              ...        ...        ...       ...       ...        ...   \n",
      "853042  1.683756e+12   0.005431  -0.008674  9.928580  0.009163  -0.003971   \n",
      "853043  1.683756e+12   0.002988  -0.004009  9.926007  0.009468  -0.003971   \n",
      "853044  1.683756e+12   0.002942  -0.008904  9.923849  0.009163  -0.004276   \n",
      "853045  1.683756e+12   0.000597  -0.006398  9.926171  0.008858  -0.003971   \n",
      "853046  1.683756e+12   0.001769  -0.007651  9.925010  0.009163  -0.003971   \n",
      "\n",
      "            GyroZ Temperature  \n",
      "0       -0.009468   36.000000  \n",
      "1       -0.009468   36.000000  \n",
      "2       -0.009468   36.000000  \n",
      "3       -0.009774   36.000000  \n",
      "4       -0.009774   36.000000  \n",
      "...           ...         ...  \n",
      "853042  -0.009774   35.000000  \n",
      "853043  -0.009774   35.000000  \n",
      "853044  -0.009774   35.000000  \n",
      "853045  -0.009774   35.000000  \n",
      "853046  -0.009774   35.000000  \n",
      "\n",
      "[853047 rows x 8 columns]\n"
     ]
    }
   ],
   "source": [
    "print(data_shock2)"
   ]
  }
 ],
 "metadata": {
  "kernelspec": {
   "display_name": "venv",
   "language": "python",
   "name": "python3"
  },
  "language_info": {
   "codemirror_mode": {
    "name": "ipython",
    "version": 3
   },
   "file_extension": ".py",
   "mimetype": "text/x-python",
   "name": "python",
   "nbconvert_exporter": "python",
   "pygments_lexer": "ipython3",
   "version": "3.9.13"
  },
  "orig_nbformat": 4
 },
 "nbformat": 4,
 "nbformat_minor": 2
}
