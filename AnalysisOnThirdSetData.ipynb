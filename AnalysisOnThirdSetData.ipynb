{
 "cells": [
  {
   "cell_type": "code",
   "execution_count": 1,
   "metadata": {},
   "outputs": [],
   "source": [
    "# Imports\n",
    "import matplotlib.pyplot as plt\n",
    "import numpy as np\n",
    "import pandas as pd\n",
    "import re\n",
    "from sklearn.cluster import KMeans"
   ]
  },
  {
   "cell_type": "code",
   "execution_count": 5,
   "metadata": {},
   "outputs": [
    {
     "name": "stdout",
     "output_type": "stream",
     "text": [
      "             Date      Time  Latitude  Longitude  Speed  Track Angle\n",
      "1      03/05/2023  21:59:59   41.3647    2.17157   1.13       171.97\n",
      "2      03/05/2023  22:01:01   41.3649    2.17184   0.05       100.92\n",
      "3      03/05/2023  22:01:02   41.3649    2.17184   0.05       100.92\n",
      "4      03/05/2023  22:01:03   41.3649    2.17184   1.03       179.14\n",
      "5      03/05/2023  22:01:04   41.3649    2.17184   0.49       179.14\n",
      "...           ...       ...       ...        ...    ...          ...\n",
      "72403  04/05/2023  21:59:42   48.7848    6.13068  27.89       320.88\n",
      "72404  04/05/2023  21:59:43   48.7849    6.13056  26.61       319.06\n",
      "72405  04/05/2023  21:59:44   48.7850    6.13042  26.65       316.63\n",
      "72406  04/05/2023  21:59:45   48.7851    6.13030  26.26       316.96\n",
      "72407  04/05/2023  21:59:46   48.7852    6.13016  27.73       316.21\n",
      "\n",
      "[72407 rows x 6 columns]\n"
     ]
    }
   ],
   "source": [
    "import pandas as pd\n",
    "\n",
    "# Load the GPS data from the .log file, excluding the line (containing '}')\n",
    "data_gps = pd.read_csv('./Data/3/GPS/gps_2023-05-04.log', sep=';', names=['Date', 'Time', 'Latitude', 'Longitude', 'Speed', 'Track Angle', 'Magnetic Variation'], skipfooter=1, engine='python')\n",
    "\n",
    "# Data cleaning and formatting\n",
    "data_gps['Latitude'] = data_gps['Latitude'].str.rstrip('N').astype(float)\n",
    "data_gps['Longitude'] = data_gps['Longitude'].str.rstrip('E').astype(float)\n",
    "\n",
    "# Use try-except block to handle errors while parsing date and time\n",
    "try:\n",
    "    data_gps['Date'] = pd.to_datetime(data_gps['Date'], format='%d/%m/%Y')\n",
    "    data_gps['Time'] = pd.to_datetime(data_gps['Time'], format='%H:%M:%S').dt.time\n",
    "except ValueError:\n",
    "    # If an error occurs while parsing date and time, drop the row\n",
    "    data_gps.dropna(inplace=True)\n",
    "\n",
    "# Drop Magnetic Variation column as it is not relevant to the problem\n",
    "data_gps.drop(columns=['Magnetic Variation'], inplace=True)\n",
    "\n",
    "print(data_gps)\n"
   ]
  },
  {
   "cell_type": "code",
   "execution_count": 6,
   "metadata": {},
   "outputs": [
    {
     "name": "stdout",
     "output_type": "stream",
     "text": [
      "              Date             Time    AccelX    AccelY     AccelZ     GyroX  \\\n",
      "0       1970-01-01  00:28:03.151200 -0.004225 -0.008822   9.963903 -0.005192   \n",
      "1       1970-01-01  00:28:03.151200  0.009082  0.001522   9.954070 -0.004887   \n",
      "2       1970-01-01  00:28:03.151200 -0.007552  0.017937   9.945915 -0.004581   \n",
      "3       1970-01-01  00:28:03.151200  0.007993 -0.002378   9.947039 -0.004887   \n",
      "4       1970-01-01  00:28:03.151200  0.000886 -0.006175   9.942305 -0.004887   \n",
      "...            ...              ...       ...       ...        ...       ...   \n",
      "923367  1970-01-01  00:28:03.237599 -0.263614 -0.684888  10.483509 -0.011301   \n",
      "923368  1970-01-01  00:28:03.237599  0.292846 -0.648380  10.558532  0.005803   \n",
      "923369  1970-01-01  00:28:03.237599 -0.310100 -0.803945  10.072253 -0.024435   \n",
      "923370  1970-01-01  00:28:03.237599  0.314995 -0.718664   9.313916  0.003054   \n",
      "923371  1970-01-01  00:28:03.237599  0.243990 -0.744337   9.984593  0.009468   \n",
      "\n",
      "           GyroY     GyroZ  Temperature  \n",
      "0      -0.003665 -0.006414         41.0  \n",
      "1      -0.003971 -0.006414         41.0  \n",
      "2      -0.003971 -0.006414         41.0  \n",
      "3      -0.003971 -0.006414         41.0  \n",
      "4      -0.003665 -0.006720         41.0  \n",
      "...          ...       ...          ...  \n",
      "923367  0.005192  0.010690         34.0  \n",
      "923368 -0.006109  0.011301         34.0  \n",
      "923369 -0.008552  0.009774         34.0  \n",
      "923370 -0.011301  0.010079         34.0  \n",
      "923371  0.000305  0.011301         34.0  \n",
      "\n",
      "[923372 rows x 9 columns]\n"
     ]
    }
   ],
   "source": [
    "# Load the Shock data\n",
    "data_shock3 = pd.read_csv('./Data/3/shock/shock_2023-05-04.log', sep=';', header=None)\n",
    "\n",
    "# Add column headers\n",
    "data_shock3.columns = ['Timestamp', 'AccelX', 'AccelY', 'AccelZ', 'GyroX', 'GyroY', 'GyroZ', 'Temperature']\n",
    "\n",
    "# Convert timestamp to datetime format\n",
    "data_shock3['Timestamp'] = pd.to_datetime(data_shock3['Timestamp'], unit='ns')\n",
    "\n",
    "# Extract Date and Time from Timestamp\n",
    "data_shock3['Date'] = data_shock3['Timestamp'].dt.date\n",
    "data_shock3['Time'] = data_shock3['Timestamp'].dt.time\n",
    "\n",
    "# Drop the original Timestamp column\n",
    "data_shock3.drop(columns=['Timestamp'], inplace=True)\n",
    "\n",
    "# Reorder the columns (optional)\n",
    "data_shock3 = data_shock3[['Date', 'Time', 'AccelX', 'AccelY', 'AccelZ', 'GyroX', 'GyroY', 'GyroZ', 'Temperature']]\n",
    "\n",
    "# Display the cleaned data\n",
    "print(data_shock3)\n",
    "\n",
    "\n",
    "# Note: From this data we can observe that shock data recor year is 1970. And GPS Data record date is 2023."
   ]
  },
  {
   "cell_type": "code",
   "execution_count": 7,
   "metadata": {},
   "outputs": [
    {
     "name": "stdout",
     "output_type": "stream",
     "text": [
      "Empty DataFrame\n",
      "Columns: [Date, Time, AccelX, AccelY, AccelZ, GyroX, GyroY, GyroZ, Temperature]\n",
      "Index: []\n"
     ]
    }
   ],
   "source": [
    "# Filter rows where the date is '2023-04-20'\n",
    "data_shock3 = data_shock3[data_shock3['Date'] == '2023-04-20']\n",
    "\n",
    "# Print Data\n",
    "print(data_shock3)"
   ]
  },
  {
   "cell_type": "code",
   "execution_count": null,
   "metadata": {},
   "outputs": [],
   "source": []
  },
  {
   "cell_type": "code",
   "execution_count": null,
   "metadata": {},
   "outputs": [],
   "source": []
  },
  {
   "cell_type": "code",
   "execution_count": null,
   "metadata": {},
   "outputs": [],
   "source": []
  }
 ],
 "metadata": {
  "kernelspec": {
   "display_name": "venv",
   "language": "python",
   "name": "python3"
  },
  "language_info": {
   "codemirror_mode": {
    "name": "ipython",
    "version": 3
   },
   "file_extension": ".py",
   "mimetype": "text/x-python",
   "name": "python",
   "nbconvert_exporter": "python",
   "pygments_lexer": "ipython3",
   "version": "3.9.13"
  },
  "orig_nbformat": 4
 },
 "nbformat": 4,
 "nbformat_minor": 2
}
