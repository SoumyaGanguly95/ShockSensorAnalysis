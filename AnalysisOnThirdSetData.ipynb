{
 "cells": [
  {
   "cell_type": "code",
   "execution_count": 1,
   "metadata": {},
   "outputs": [],
   "source": [
    "# Imports\n",
    "import matplotlib.pyplot as plt\n",
    "import numpy as np\n",
    "import pandas as pd\n",
    "import re\n",
    "from sklearn.cluster import KMeans"
   ]
  },
  {
   "cell_type": "markdown",
   "metadata": {},
   "source": [
    "### Loading and Cleaning GPS Data Set 3"
   ]
  },
  {
   "cell_type": "code",
   "execution_count": 2,
   "metadata": {},
   "outputs": [
    {
     "name": "stdout",
     "output_type": "stream",
     "text": [
      "             Date      Time  Latitude  Longitude  Speed  Track Angle\n",
      "1      03/05/2023  21:59:59   41.3647    2.17157   1.13       171.97\n",
      "2      03/05/2023  22:01:01   41.3649    2.17184   0.05       100.92\n",
      "3      03/05/2023  22:01:02   41.3649    2.17184   0.05       100.92\n",
      "4      03/05/2023  22:01:03   41.3649    2.17184   1.03       179.14\n",
      "5      03/05/2023  22:01:04   41.3649    2.17184   0.49       179.14\n",
      "...           ...       ...       ...        ...    ...          ...\n",
      "72403  04/05/2023  21:59:42   48.7848    6.13068  27.89       320.88\n",
      "72404  04/05/2023  21:59:43   48.7849    6.13056  26.61       319.06\n",
      "72405  04/05/2023  21:59:44   48.7850    6.13042  26.65       316.63\n",
      "72406  04/05/2023  21:59:45   48.7851    6.13030  26.26       316.96\n",
      "72407  04/05/2023  21:59:46   48.7852    6.13016  27.73       316.21\n",
      "\n",
      "[72407 rows x 6 columns]\n"
     ]
    }
   ],
   "source": [
    "import pandas as pd\n",
    "\n",
    "# Load the GPS data from the .log file, excluding the line (containing '}')\n",
    "data_gps3 = pd.read_csv('./Data/3/GPS/gps_2023-05-04.log', sep=';', names=['Date', 'Time', 'Latitude', 'Longitude', 'Speed', 'Track Angle', 'Magnetic Variation'], skipfooter=1, engine='python')\n",
    "\n",
    "# Data cleaning and formatting\n",
    "data_gps3['Latitude'] = data_gps3['Latitude'].str.rstrip('N').astype(float)\n",
    "data_gps3['Longitude'] = data_gps3['Longitude'].str.rstrip('E').astype(float)\n",
    "\n",
    "# Use try-except block to handle errors while parsing date and time\n",
    "try:\n",
    "    data_gps3['Date'] = pd.to_datetime(data_gps3['Date'], format='%d/%m/%Y')\n",
    "    data_gps3['Time'] = pd.to_datetime(data_gps3['Time'], format='%H:%M:%S').dt.time\n",
    "except ValueError:\n",
    "    # If an error occurs while parsing date and time, drop the row\n",
    "    data_gps3.dropna(inplace=True)\n",
    "\n",
    "# Drop Magnetic Variation column as it is not relevant to the problem\n",
    "data_gps3.drop(columns=['Magnetic Variation'], inplace=True)\n",
    "\n",
    "print(data_gps3)\n"
   ]
  },
  {
   "cell_type": "code",
   "execution_count": 3,
   "metadata": {},
   "outputs": [
    {
     "name": "stdout",
     "output_type": "stream",
     "text": [
      "       UnixTimeStampInMsec            Datetime  Latitude  Longitude  Speed  \\\n",
      "1            1683151199000 2023-05-03 21:59:59   41.3647    2.17157   1.13   \n",
      "2            1683151261000 2023-05-03 22:01:01   41.3649    2.17184   0.05   \n",
      "3            1683151262000 2023-05-03 22:01:02   41.3649    2.17184   0.05   \n",
      "4            1683151263000 2023-05-03 22:01:03   41.3649    2.17184   1.03   \n",
      "5            1683151264000 2023-05-03 22:01:04   41.3649    2.17184   0.49   \n",
      "...                    ...                 ...       ...        ...    ...   \n",
      "72403        1683237582000 2023-05-04 21:59:42   48.7848    6.13068  27.89   \n",
      "72404        1683237583000 2023-05-04 21:59:43   48.7849    6.13056  26.61   \n",
      "72405        1683237584000 2023-05-04 21:59:44   48.7850    6.13042  26.65   \n",
      "72406        1683237585000 2023-05-04 21:59:45   48.7851    6.13030  26.26   \n",
      "72407        1683237586000 2023-05-04 21:59:46   48.7852    6.13016  27.73   \n",
      "\n",
      "       TrackAngle  \n",
      "1          171.97  \n",
      "2          100.92  \n",
      "3          100.92  \n",
      "4          179.14  \n",
      "5          179.14  \n",
      "...           ...  \n",
      "72403      320.88  \n",
      "72404      319.06  \n",
      "72405      316.63  \n",
      "72406      316.96  \n",
      "72407      316.21  \n",
      "\n",
      "[72407 rows x 6 columns]\n"
     ]
    }
   ],
   "source": [
    "# Merge 'Date' and 'Time' columns into a single datetime column\n",
    "data_gps3['Datetime'] = pd.to_datetime(data_gps3['Date'] + ' ' + data_gps3['Time'], format='%d/%m/%Y %H:%M:%S')\n",
    "\n",
    "# Convert the datetime column to Unix format in milliseconds\n",
    "data_gps3['UnixTimeStampInMsec'] = (data_gps3['Datetime'] - pd.Timestamp(\"1970-01-01\")) // pd.Timedelta(milliseconds=1)\n",
    "\n",
    "# Reorder the columns, moving 'UnixTimeInMSec' to the first position\n",
    "data_gps3 = data_gps3[['UnixTimeStampInMsec', 'Datetime', 'Latitude', 'Longitude', 'Speed', 'Track Angle']]\n",
    "\n",
    "# Rename column so that column names are in sync in all the datasets\n",
    "data_gps3 = data_gps3.rename(columns={'Track Angle': 'TrackAngle'})\n",
    "\n",
    "# Print the DataFrame with Unix timestamps in the first column\n",
    "print(data_gps3)\n"
   ]
  },
  {
   "cell_type": "code",
   "execution_count": 4,
   "metadata": {},
   "outputs": [
    {
     "name": "stdout",
     "output_type": "stream",
     "text": [
      "DataFrame saved as GPSSet3Data.csv in the CleanData/Set3/ Folder.\n"
     ]
    }
   ],
   "source": [
    "# Save GPS Data Set 3\n",
    "# Save the DataFrame to a CSV file\n",
    "data_gps3.to_csv('./CleanData/Set3/GPSSet3Data.csv', index=False)\n",
    "\n",
    "print(\"DataFrame saved as GPSSet3Data.csv in the CleanData/Set3/ Folder.\")"
   ]
  },
  {
   "cell_type": "markdown",
   "metadata": {},
   "source": [
    "### Loading and Cleaning Shock Data Set 3"
   ]
  },
  {
   "cell_type": "code",
   "execution_count": 5,
   "metadata": {},
   "outputs": [
    {
     "name": "stdout",
     "output_type": "stream",
     "text": [
      "        UnixTimeStampInMsec    AccelX    AccelY     AccelZ     GyroX  \\\n",
      "0             1683151200009 -0.004225 -0.008822   9.963903 -0.005192   \n",
      "1             1683151200093  0.009082  0.001522   9.954070 -0.004887   \n",
      "2             1683151200176 -0.007552  0.017937   9.945915 -0.004581   \n",
      "3             1683151200260  0.007993 -0.002378   9.947039 -0.004887   \n",
      "4             1683151200344  0.000886 -0.006175   9.942305 -0.004887   \n",
      "...                     ...       ...       ...        ...       ...   \n",
      "923367        1683237599606 -0.263614 -0.684888  10.483509 -0.011301   \n",
      "923368        1683237599690  0.292846 -0.648380  10.558532  0.005803   \n",
      "923369        1683237599774 -0.310100 -0.803945  10.072253 -0.024435   \n",
      "923370        1683237599858  0.314995 -0.718664   9.313916  0.003054   \n",
      "923371        1683237599942  0.243990 -0.744337   9.984593  0.009468   \n",
      "\n",
      "           GyroY     GyroZ  Temperature  \n",
      "0      -0.003665 -0.006414         41.0  \n",
      "1      -0.003971 -0.006414         41.0  \n",
      "2      -0.003971 -0.006414         41.0  \n",
      "3      -0.003971 -0.006414         41.0  \n",
      "4      -0.003665 -0.006720         41.0  \n",
      "...          ...       ...          ...  \n",
      "923367  0.005192  0.010690         34.0  \n",
      "923368 -0.006109  0.011301         34.0  \n",
      "923369 -0.008552  0.009774         34.0  \n",
      "923370 -0.011301  0.010079         34.0  \n",
      "923371  0.000305  0.011301         34.0  \n",
      "\n",
      "[923372 rows x 8 columns]\n"
     ]
    }
   ],
   "source": [
    "# Load the Shock data\n",
    "data_shock3 = pd.read_csv('./Data/3/shock/shock_2023-05-04.log', sep=';', header=None)\n",
    "\n",
    "# Add column headers\n",
    "data_shock3.columns = ['UnixTimeStampInMsec', 'AccelX', 'AccelY', 'AccelZ', 'GyroX', 'GyroY', 'GyroZ', 'Temperature']\n",
    "\n",
    "# Display the cleaned data\n",
    "print(data_shock3)"
   ]
  },
  {
   "cell_type": "code",
   "execution_count": 6,
   "metadata": {},
   "outputs": [
    {
     "name": "stdout",
     "output_type": "stream",
     "text": [
      "DataFrame saved as ShockSet3Data.csv in the CleanData/Set3/ Folder.\n"
     ]
    }
   ],
   "source": [
    "# Save Shock Data for Set 3\n",
    "# Save the DataFrame to a CSV file\n",
    "data_shock3.to_csv('./CleanData/Set3/ShockSet3Data.csv', index=False)\n",
    "\n",
    "print(\"DataFrame saved as ShockSet3Data.csv in the CleanData/Set3/ Folder.\")"
   ]
  },
  {
   "cell_type": "markdown",
   "metadata": {},
   "source": [
    "### Merging GPS and Shock Data Set 3 for further analysis"
   ]
  },
  {
   "cell_type": "code",
   "execution_count": 7,
   "metadata": {},
   "outputs": [
    {
     "name": "stdout",
     "output_type": "stream",
     "text": [
      "     UnixTimeStampInMsec            Datetime  Latitude  Longitude  Speed  \\\n",
      "0          1683151309000 2023-05-03 22:01:49   41.3650    2.17171   0.85   \n",
      "1          1683151374000 2023-05-03 22:02:54   41.3650    2.17180   0.07   \n",
      "2          1683151506000 2023-05-03 22:05:06   41.3649    2.17176   0.09   \n",
      "3          1683151562000 2023-05-03 22:06:02   41.3649    2.17176   0.41   \n",
      "4          1683151610000 2023-05-03 22:06:50   41.3650    2.17176   0.03   \n",
      "..                   ...                 ...       ...        ...    ...   \n",
      "882        1683237213000 2023-05-04 21:53:33   48.7559    6.09115  43.97   \n",
      "883        1683237223000 2023-05-04 21:53:43   48.7569    6.09374  41.43   \n",
      "884        1683237311000 2023-05-04 21:55:11   48.7604    6.11211  29.53   \n",
      "885        1683237365000 2023-05-04 21:56:05   48.7618    6.12292  27.78   \n",
      "886        1683237410000 2023-05-04 21:56:50   48.7632    6.13128  25.94   \n",
      "\n",
      "     TrackAngle    AccelX    AccelY     AccelZ     GyroX     GyroY     GyroZ  \\\n",
      "0        191.03  0.013228  0.002928   9.951851 -0.004887 -0.003971 -0.006414   \n",
      "1        332.70  0.008138 -0.008127   9.972626 -0.004887 -0.003665 -0.006414   \n",
      "2        314.22  0.006905 -0.012803   9.975210 -0.004887 -0.003665 -0.006414   \n",
      "3        252.47 -0.002468 -0.003826   9.961499 -0.004887 -0.003665 -0.006414   \n",
      "4         53.84 -0.008465  0.002202   9.962341 -0.004887 -0.003971 -0.006720   \n",
      "..          ...       ...       ...        ...       ...       ...       ...   \n",
      "882       58.92  0.229358  0.411742  10.139371  0.009468 -0.020464 -0.016188   \n",
      "883       61.71 -0.934716  0.202801   9.490085 -0.036346 -0.009468 -0.016799   \n",
      "884       82.29  0.573959  0.310573   9.017027 -0.030543  0.001222 -0.003665   \n",
      "885       79.22 -0.266850 -0.047120  10.044675 -0.007941  0.002138 -0.008247   \n",
      "886       51.59  0.527904  0.053409  10.106189  0.007636 -0.000305  0.045204   \n",
      "\n",
      "     Temperature  \n",
      "0           41.0  \n",
      "1           41.0  \n",
      "2           42.0  \n",
      "3           42.0  \n",
      "4           42.0  \n",
      "..           ...  \n",
      "882         34.0  \n",
      "883         34.0  \n",
      "884         34.0  \n",
      "885         34.0  \n",
      "886         34.0  \n",
      "\n",
      "[887 rows x 13 columns]\n"
     ]
    }
   ],
   "source": [
    "# GPS data set 1 merged with Shock Data set 1 on basis of 'Date' and 'Time'\n",
    "combined_data_set3 = pd.merge(data_gps3, data_shock3, on=['UnixTimeStampInMsec'], how='inner')\n",
    "print(combined_data_set3)"
   ]
  },
  {
   "cell_type": "code",
   "execution_count": 8,
   "metadata": {},
   "outputs": [
    {
     "name": "stdout",
     "output_type": "stream",
     "text": [
      "Index(['UnixTimeStampInMsec', 'Datetime', 'Latitude', 'Longitude', 'Speed',\n",
      "       'TrackAngle', 'AccelX', 'AccelY', 'AccelZ', 'GyroX', 'GyroY', 'GyroZ',\n",
      "       'Temperature'],\n",
      "      dtype='object')\n"
     ]
    }
   ],
   "source": [
    "print(combined_data_set3.columns)"
   ]
  },
  {
   "cell_type": "code",
   "execution_count": 9,
   "metadata": {},
   "outputs": [
    {
     "name": "stdout",
     "output_type": "stream",
     "text": [
      "DataFrame saved as MergedDataSet3.csv in the CleanData/Set3 Folder.\n"
     ]
    }
   ],
   "source": [
    "# Save the DataFrame to a CSV file\n",
    "combined_data_set3.to_csv('./CleanData/Set3/MergedDataSet3.csv', index=False)\n",
    "\n",
    "print(\"DataFrame saved as MergedDataSet3.csv in the CleanData/Set3 Folder.\")"
   ]
  }
 ],
 "metadata": {
  "kernelspec": {
   "display_name": "venv",
   "language": "python",
   "name": "python3"
  },
  "language_info": {
   "codemirror_mode": {
    "name": "ipython",
    "version": 3
   },
   "file_extension": ".py",
   "mimetype": "text/x-python",
   "name": "python",
   "nbconvert_exporter": "python",
   "pygments_lexer": "ipython3",
   "version": "3.9.13"
  },
  "orig_nbformat": 4
 },
 "nbformat": 4,
 "nbformat_minor": 2
}
