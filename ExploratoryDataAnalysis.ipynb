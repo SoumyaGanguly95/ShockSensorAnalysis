{
 "cells": [
  {
   "cell_type": "code",
   "execution_count": 1,
   "metadata": {},
   "outputs": [],
   "source": [
    "\n",
    "# Imports\n",
    "import matplotlib.pyplot as plt\n",
    "import numpy as np\n",
    "import pandas as pd\n",
    "import re\n",
    "from sklearn.cluster import KMeans\n",
    "from pykalman import KalmanFilter\n",
    "\n"
   ]
  },
  {
   "cell_type": "markdown",
   "metadata": {},
   "source": [
    "# Performing data cleaning steps on the first set of GPS and Shock Data"
   ]
  },
  {
   "cell_type": "markdown",
   "metadata": {},
   "source": [
    "### Load and Analyze first set of GPS data"
   ]
  },
  {
   "cell_type": "code",
   "execution_count": 2,
   "metadata": {},
   "outputs": [
    {
     "data": {
      "text/html": [
       "<div>\n",
       "<style scoped>\n",
       "    .dataframe tbody tr th:only-of-type {\n",
       "        vertical-align: middle;\n",
       "    }\n",
       "\n",
       "    .dataframe tbody tr th {\n",
       "        vertical-align: top;\n",
       "    }\n",
       "\n",
       "    .dataframe thead th {\n",
       "        text-align: right;\n",
       "    }\n",
       "</style>\n",
       "<table border=\"1\" class=\"dataframe\">\n",
       "  <thead>\n",
       "    <tr style=\"text-align: right;\">\n",
       "      <th></th>\n",
       "      <th>Date</th>\n",
       "      <th>Time</th>\n",
       "      <th>Latitude</th>\n",
       "      <th>Longitude</th>\n",
       "      <th>Speed</th>\n",
       "      <th>TrackAngle</th>\n",
       "    </tr>\n",
       "  </thead>\n",
       "  <tbody>\n",
       "    <tr>\n",
       "      <th>0</th>\n",
       "      <td>19/04/2023</td>\n",
       "      <td>22:02:10</td>\n",
       "      <td>56.9022N</td>\n",
       "      <td>14.5603E</td>\n",
       "      <td>40.51</td>\n",
       "      <td>27.42</td>\n",
       "    </tr>\n",
       "    <tr>\n",
       "      <th>1</th>\n",
       "      <td>19/04/2023</td>\n",
       "      <td>22:02:11</td>\n",
       "      <td>56.9023N</td>\n",
       "      <td>14.5604E</td>\n",
       "      <td>40.44</td>\n",
       "      <td>26.85</td>\n",
       "    </tr>\n",
       "    <tr>\n",
       "      <th>2</th>\n",
       "      <td>19/04/2023</td>\n",
       "      <td>22:02:12</td>\n",
       "      <td>56.9025N</td>\n",
       "      <td>14.5606E</td>\n",
       "      <td>40.49</td>\n",
       "      <td>26.84</td>\n",
       "    </tr>\n",
       "    <tr>\n",
       "      <th>3</th>\n",
       "      <td>19/04/2023</td>\n",
       "      <td>22:02:13</td>\n",
       "      <td>56.9027N</td>\n",
       "      <td>14.5607E</td>\n",
       "      <td>40.21</td>\n",
       "      <td>27.04</td>\n",
       "    </tr>\n",
       "    <tr>\n",
       "      <th>4</th>\n",
       "      <td>19/04/2023</td>\n",
       "      <td>22:02:14</td>\n",
       "      <td>56.9028N</td>\n",
       "      <td>14.5609E</td>\n",
       "      <td>40.45</td>\n",
       "      <td>26.91</td>\n",
       "    </tr>\n",
       "  </tbody>\n",
       "</table>\n",
       "</div>"
      ],
      "text/plain": [
       "         Date      Time  Latitude Longitude  Speed  TrackAngle\n",
       "0  19/04/2023  22:02:10  56.9022N  14.5603E  40.51       27.42\n",
       "1  19/04/2023  22:02:11  56.9023N  14.5604E  40.44       26.85\n",
       "2  19/04/2023  22:02:12  56.9025N  14.5606E  40.49       26.84\n",
       "3  19/04/2023  22:02:13  56.9027N  14.5607E  40.21       27.04\n",
       "4  19/04/2023  22:02:14  56.9028N  14.5609E  40.45       26.91"
      ]
     },
     "execution_count": 2,
     "metadata": {},
     "output_type": "execute_result"
    }
   ],
   "source": [
    "# Load the GPS data\n",
    "data_gps1 = pd.read_csv('./Data/1/gps/gps_2023-04-20.log', sep=';')\n",
    "\n",
    "# Data unavailable for Magnetic Variation; so dropping the column\n",
    "data_gps1.drop(columns='MagneticVariation', inplace=True)\n",
    "\n",
    "# To check how the data looks after being loaded in pandas dataframe\n",
    "data_gps1.head()\n",
    "\n"
   ]
  },
  {
   "cell_type": "code",
   "execution_count": 3,
   "metadata": {},
   "outputs": [
    {
     "data": {
      "text/plain": [
       "83745"
      ]
     },
     "execution_count": 3,
     "metadata": {},
     "output_type": "execute_result"
    }
   ],
   "source": [
    "# To check the number of data rows finally loaded\n",
    "data_gps1.shape[0]"
   ]
  },
  {
   "cell_type": "markdown",
   "metadata": {},
   "source": [
    "### Load and Analyze first set of Shock data"
   ]
  },
  {
   "cell_type": "code",
   "execution_count": 4,
   "metadata": {},
   "outputs": [
    {
     "data": {
      "text/html": [
       "<div>\n",
       "<style scoped>\n",
       "    .dataframe tbody tr th:only-of-type {\n",
       "        vertical-align: middle;\n",
       "    }\n",
       "\n",
       "    .dataframe tbody tr th {\n",
       "        vertical-align: top;\n",
       "    }\n",
       "\n",
       "    .dataframe thead th {\n",
       "        text-align: right;\n",
       "    }\n",
       "</style>\n",
       "<table border=\"1\" class=\"dataframe\">\n",
       "  <thead>\n",
       "    <tr style=\"text-align: right;\">\n",
       "      <th></th>\n",
       "      <th>Timestamp</th>\n",
       "      <th>AccelX</th>\n",
       "      <th>AccelY</th>\n",
       "      <th>AccelZ</th>\n",
       "      <th>GyroX</th>\n",
       "      <th>GyroY</th>\n",
       "      <th>GyroZ</th>\n",
       "      <th>Temperature</th>\n",
       "    </tr>\n",
       "  </thead>\n",
       "  <tbody>\n",
       "    <tr>\n",
       "      <th>0</th>\n",
       "      <td>1681941595585</td>\n",
       "      <td>-0.599752</td>\n",
       "      <td>0.065531</td>\n",
       "      <td>10.419545</td>\n",
       "      <td>-0.013439</td>\n",
       "      <td>-0.003665</td>\n",
       "      <td>-0.005803</td>\n",
       "      <td>29.0</td>\n",
       "    </tr>\n",
       "    <tr>\n",
       "      <th>1</th>\n",
       "      <td>1681941740571</td>\n",
       "      <td>-0.069945</td>\n",
       "      <td>0.000499</td>\n",
       "      <td>10.019079</td>\n",
       "      <td>-0.023518</td>\n",
       "      <td>0.004581</td>\n",
       "      <td>-0.007636</td>\n",
       "      <td>29.0</td>\n",
       "    </tr>\n",
       "    <tr>\n",
       "      <th>2</th>\n",
       "      <td>1681941740617</td>\n",
       "      <td>-0.445631</td>\n",
       "      <td>-0.054700</td>\n",
       "      <td>9.785857</td>\n",
       "      <td>-0.022907</td>\n",
       "      <td>-0.002138</td>\n",
       "      <td>-0.007330</td>\n",
       "      <td>29.0</td>\n",
       "    </tr>\n",
       "    <tr>\n",
       "      <th>3</th>\n",
       "      <td>1681941740662</td>\n",
       "      <td>-0.442073</td>\n",
       "      <td>-0.130693</td>\n",
       "      <td>9.712997</td>\n",
       "      <td>0.000916</td>\n",
       "      <td>-0.001833</td>\n",
       "      <td>-0.007025</td>\n",
       "      <td>29.0</td>\n",
       "    </tr>\n",
       "    <tr>\n",
       "      <th>4</th>\n",
       "      <td>1681941740708</td>\n",
       "      <td>-0.094992</td>\n",
       "      <td>0.030634</td>\n",
       "      <td>9.786232</td>\n",
       "      <td>0.016799</td>\n",
       "      <td>0.000916</td>\n",
       "      <td>-0.006720</td>\n",
       "      <td>29.0</td>\n",
       "    </tr>\n",
       "  </tbody>\n",
       "</table>\n",
       "</div>"
      ],
      "text/plain": [
       "       Timestamp    AccelX    AccelY     AccelZ     GyroX     GyroY     GyroZ  \\\n",
       "0  1681941595585 -0.599752  0.065531  10.419545 -0.013439 -0.003665 -0.005803   \n",
       "1  1681941740571 -0.069945  0.000499  10.019079 -0.023518  0.004581 -0.007636   \n",
       "2  1681941740617 -0.445631 -0.054700   9.785857 -0.022907 -0.002138 -0.007330   \n",
       "3  1681941740662 -0.442073 -0.130693   9.712997  0.000916 -0.001833 -0.007025   \n",
       "4  1681941740708 -0.094992  0.030634   9.786232  0.016799  0.000916 -0.006720   \n",
       "\n",
       "   Temperature  \n",
       "0         29.0  \n",
       "1         29.0  \n",
       "2         29.0  \n",
       "3         29.0  \n",
       "4         29.0  "
      ]
     },
     "execution_count": 4,
     "metadata": {},
     "output_type": "execute_result"
    }
   ],
   "source": [
    "# Load the Shock data\n",
    "data_shock1 = pd.read_csv('./Data/1/shock/shock_2023-04-20.log', sep=';', header=None)\n",
    "\n",
    "# Add missing column headers\n",
    "data_shock1.columns = ['Timestamp', 'AccelX', 'AccelY', 'AccelZ', 'GyroX', 'GyroY', 'GyroZ', 'Temperature']\n",
    "\n",
    "# Check data after column headers were added\n",
    "data_shock1.head()"
   ]
  },
  {
   "cell_type": "markdown",
   "metadata": {},
   "source": [
    "# Performing data cleaning steps on the second set of GPS and Shock Data"
   ]
  },
  {
   "cell_type": "markdown",
   "metadata": {},
   "source": [
    "### Load and Analyze second set GPS Data"
   ]
  },
  {
   "cell_type": "code",
   "execution_count": 5,
   "metadata": {},
   "outputs": [
    {
     "data": {
      "text/html": [
       "<div>\n",
       "<style scoped>\n",
       "    .dataframe tbody tr th:only-of-type {\n",
       "        vertical-align: middle;\n",
       "    }\n",
       "\n",
       "    .dataframe tbody tr th {\n",
       "        vertical-align: top;\n",
       "    }\n",
       "\n",
       "    .dataframe thead th {\n",
       "        text-align: right;\n",
       "    }\n",
       "</style>\n",
       "<table border=\"1\" class=\"dataframe\">\n",
       "  <thead>\n",
       "    <tr style=\"text-align: right;\">\n",
       "      <th></th>\n",
       "      <th>Date</th>\n",
       "      <th>Time</th>\n",
       "      <th>Latitude</th>\n",
       "      <th>Longitude</th>\n",
       "      <th>Speed</th>\n",
       "      <th>TrackAngle</th>\n",
       "    </tr>\n",
       "  </thead>\n",
       "  <tbody>\n",
       "    <tr>\n",
       "      <th>0</th>\n",
       "      <td>09/05/2023</td>\n",
       "      <td>22:01:00</td>\n",
       "      <td>53.9432N</td>\n",
       "      <td>10.8564E</td>\n",
       "      <td>0.16</td>\n",
       "      <td>0</td>\n",
       "    </tr>\n",
       "    <tr>\n",
       "      <th>1</th>\n",
       "      <td>09/05/2023</td>\n",
       "      <td>22:01:01</td>\n",
       "      <td>53.9432N</td>\n",
       "      <td>10.8564E</td>\n",
       "      <td>0.16</td>\n",
       "      <td>0</td>\n",
       "    </tr>\n",
       "    <tr>\n",
       "      <th>2</th>\n",
       "      <td>09/05/2023</td>\n",
       "      <td>22:01:03</td>\n",
       "      <td>53.9432N</td>\n",
       "      <td>10.8564E</td>\n",
       "      <td>0.1</td>\n",
       "      <td>0</td>\n",
       "    </tr>\n",
       "    <tr>\n",
       "      <th>3</th>\n",
       "      <td>09/05/2023</td>\n",
       "      <td>22:01:04</td>\n",
       "      <td>53.9432N</td>\n",
       "      <td>10.8564E</td>\n",
       "      <td>0.14</td>\n",
       "      <td>0</td>\n",
       "    </tr>\n",
       "    <tr>\n",
       "      <th>4</th>\n",
       "      <td>09/05/2023</td>\n",
       "      <td>22:01:05</td>\n",
       "      <td>53.9432N</td>\n",
       "      <td>10.8564E</td>\n",
       "      <td>0.14</td>\n",
       "      <td>0</td>\n",
       "    </tr>\n",
       "  </tbody>\n",
       "</table>\n",
       "</div>"
      ],
      "text/plain": [
       "         Date      Time  Latitude Longitude Speed TrackAngle\n",
       "0  09/05/2023  22:01:00  53.9432N  10.8564E  0.16          0\n",
       "1  09/05/2023  22:01:01  53.9432N  10.8564E  0.16          0\n",
       "2  09/05/2023  22:01:03  53.9432N  10.8564E   0.1          0\n",
       "3  09/05/2023  22:01:04  53.9432N  10.8564E  0.14          0\n",
       "4  09/05/2023  22:01:05  53.9432N  10.8564E  0.14          0"
      ]
     },
     "execution_count": 5,
     "metadata": {},
     "output_type": "execute_result"
    }
   ],
   "source": [
    "import pandas as pd\n",
    "\n",
    "# Load GPS data with path\n",
    "with open('./Data/2/GPS/gps_2023-05-10.log', 'r') as file:\n",
    "    lines = file.readlines()\n",
    "\n",
    "# Filtering out clean data \n",
    "cleaned_data = []\n",
    "for line in lines:\n",
    "    line = line.strip()\n",
    "    if line:\n",
    "        # Split the line by semicolon ';'\n",
    "        data_elements = line.split(';')\n",
    "        # Check if the line has exactly 7 elements and ends with a '/'\n",
    "        if len(data_elements) == 7 and data_elements[-1].strip() == '/':\n",
    "            # Append to the cleaned_data\n",
    "            cleaned_data.append(data_elements[:-1])  # Discard the last element (slash)\n",
    "\n",
    "# Create a DataFrame from the cleaned data\n",
    "column_names = ['Date', 'Time', 'Latitude', 'Longitude', 'Speed', 'TrackAngle']\n",
    "data_gps2 = pd.DataFrame(cleaned_data, columns=column_names)\n",
    "\n",
    "# Check final dataframe structure\n",
    "data_gps2.head()\n",
    "\n"
   ]
  },
  {
   "cell_type": "code",
   "execution_count": 6,
   "metadata": {},
   "outputs": [
    {
     "data": {
      "text/plain": [
       "68917"
      ]
     },
     "execution_count": 6,
     "metadata": {},
     "output_type": "execute_result"
    }
   ],
   "source": [
    "# To check the number of records finally filtered out\n",
    "data_gps2.shape[0]\n"
   ]
  },
  {
   "cell_type": "markdown",
   "metadata": {},
   "source": [
    "### Load and Analyze second set Shock Data"
   ]
  },
  {
   "cell_type": "code",
   "execution_count": 7,
   "metadata": {},
   "outputs": [
    {
     "ename": "AttributeError",
     "evalue": "'numpy.ndarray' object has no attribute 'notnull'",
     "output_type": "error",
     "traceback": [
      "\u001b[0;31m---------------------------------------------------------------------------\u001b[0m",
      "\u001b[0;31mAttributeError\u001b[0m                            Traceback (most recent call last)",
      "\u001b[1;32m/home/sifat/Desktop/SoumyaWorkspace/ShockSensorAnalysis/ExploratoryDataAnalysis.ipynb Cell 13\u001b[0m in \u001b[0;36m<cell line: 7>\u001b[0;34m()\u001b[0m\n\u001b[1;32m     <a href='vscode-notebook-cell:/home/sifat/Desktop/SoumyaWorkspace/ShockSensorAnalysis/ExploratoryDataAnalysis.ipynb#X16sZmlsZQ%3D%3D?line=11'>12</a>\u001b[0m \u001b[39m# Check if the line has 8 elements (7 data columns + 1 timestamp)\u001b[39;00m\n\u001b[1;32m     <a href='vscode-notebook-cell:/home/sifat/Desktop/SoumyaWorkspace/ShockSensorAnalysis/ExploratoryDataAnalysis.ipynb#X16sZmlsZQ%3D%3D?line=12'>13</a>\u001b[0m \u001b[39mif\u001b[39;00m \u001b[39mlen\u001b[39m(data_elements) \u001b[39m==\u001b[39m \u001b[39m8\u001b[39m:\n\u001b[1;32m     <a href='vscode-notebook-cell:/home/sifat/Desktop/SoumyaWorkspace/ShockSensorAnalysis/ExploratoryDataAnalysis.ipynb#X16sZmlsZQ%3D%3D?line=13'>14</a>\u001b[0m     \u001b[39m# Check if all elements in the row are numeric\u001b[39;00m\n\u001b[0;32m---> <a href='vscode-notebook-cell:/home/sifat/Desktop/SoumyaWorkspace/ShockSensorAnalysis/ExploratoryDataAnalysis.ipynb#X16sZmlsZQ%3D%3D?line=14'>15</a>\u001b[0m     \u001b[39mif\u001b[39;00m \u001b[39mall\u001b[39m(pd\u001b[39m.\u001b[39;49mto_numeric(data_elements, errors\u001b[39m=\u001b[39;49m\u001b[39m'\u001b[39;49m\u001b[39mcoerce\u001b[39;49m\u001b[39m'\u001b[39;49m)\u001b[39m.\u001b[39;49mnotnull()):\n\u001b[1;32m     <a href='vscode-notebook-cell:/home/sifat/Desktop/SoumyaWorkspace/ShockSensorAnalysis/ExploratoryDataAnalysis.ipynb#X16sZmlsZQ%3D%3D?line=15'>16</a>\u001b[0m         \u001b[39m# If all elements are numeric, keep the row\u001b[39;00m\n\u001b[1;32m     <a href='vscode-notebook-cell:/home/sifat/Desktop/SoumyaWorkspace/ShockSensorAnalysis/ExploratoryDataAnalysis.ipynb#X16sZmlsZQ%3D%3D?line=16'>17</a>\u001b[0m         cleaned_lines\u001b[39m.\u001b[39mappend(data_elements)\n\u001b[1;32m     <a href='vscode-notebook-cell:/home/sifat/Desktop/SoumyaWorkspace/ShockSensorAnalysis/ExploratoryDataAnalysis.ipynb#X16sZmlsZQ%3D%3D?line=17'>18</a>\u001b[0m     \u001b[39melse\u001b[39;00m:\n",
      "\u001b[0;31mAttributeError\u001b[0m: 'numpy.ndarray' object has no attribute 'notnull'"
     ]
    }
   ],
   "source": [
    "# Replace 'your_data.txt' with the path to your data file\n",
    "with open('./Data/2/shock/shock_2023-05-10.log', 'r') as file:\n",
    "    lines = file.readlines()\n",
    "\n",
    "# Clean and process the lines\n",
    "cleaned_lines = []\n",
    "for line_idx, line in enumerate(lines):\n",
    "    line = line.strip()\n",
    "    if line:\n",
    "        # Split the line by semicolon ';'\n",
    "        data_elements = line.split(';')\n",
    "        # Check if the line has 8 elements (7 data columns + 1 timestamp)\n",
    "        if len(data_elements) == 8:\n",
    "            # Check if all elements in the row are numeric\n",
    "            if all(pd.to_numeric(data_elements, errors='coerce').notnull()):\n",
    "                # If all elements are numeric, keep the row\n",
    "                cleaned_lines.append(data_elements)\n",
    "            else:\n",
    "                print(f\"Row {line_idx+1} has non-numeric data. Discarding the row.\")\n",
    "        else:\n",
    "            print(f\"Row {line_idx+1} does not have the correct number of columns. Discarding the row.\")\n",
    "\n",
    "# Check if the first column name is 'Timestamp'\n",
    "if cleaned_lines[0][0] != 'Timestamp':\n",
    "    # Change the column names accordingly\n",
    "    column_names = ['Timestamp', 'AccelX', 'AccelY', 'AccelZ', 'GyroX', 'GyroY', 'GyroZ', 'Temperature']\n",
    "else:\n",
    "    column_names = cleaned_lines[0]\n",
    "\n",
    "# Create a DataFrame from the cleaned data\n",
    "data_shock2 = pd.DataFrame(cleaned_lines[1:], columns=column_names)\n",
    "\n",
    "# Convert the 'Timestamp' column to numeric (integer)\n",
    "data_shock2['Timestamp'] = pd.to_numeric(data_shock2['Timestamp'])\n",
    "\n"
   ]
  },
  {
   "cell_type": "code",
   "execution_count": 9,
   "metadata": {},
   "outputs": [
    {
     "ename": "AttributeError",
     "evalue": "'numpy.ndarray' object has no attribute 'notnull'",
     "output_type": "error",
     "traceback": [
      "\u001b[0;31m---------------------------------------------------------------------------\u001b[0m",
      "\u001b[0;31mAttributeError\u001b[0m                            Traceback (most recent call last)",
      "\u001b[1;32m/home/sifat/Desktop/SoumyaWorkspace/ShockSensorAnalysis/ExploratoryDataAnalysis.ipynb Cell 14\u001b[0m in \u001b[0;36m<cell line: 9>\u001b[0;34m()\u001b[0m\n\u001b[1;32m     <a href='vscode-notebook-cell:/home/sifat/Desktop/SoumyaWorkspace/ShockSensorAnalysis/ExploratoryDataAnalysis.ipynb#X20sZmlsZQ%3D%3D?line=13'>14</a>\u001b[0m \u001b[39m# Check if the line has 8 elements (7 data columns + 1 timestamp)\u001b[39;00m\n\u001b[1;32m     <a href='vscode-notebook-cell:/home/sifat/Desktop/SoumyaWorkspace/ShockSensorAnalysis/ExploratoryDataAnalysis.ipynb#X20sZmlsZQ%3D%3D?line=14'>15</a>\u001b[0m \u001b[39mif\u001b[39;00m \u001b[39mlen\u001b[39m(data_elements) \u001b[39m==\u001b[39m \u001b[39m8\u001b[39m:\n\u001b[1;32m     <a href='vscode-notebook-cell:/home/sifat/Desktop/SoumyaWorkspace/ShockSensorAnalysis/ExploratoryDataAnalysis.ipynb#X20sZmlsZQ%3D%3D?line=15'>16</a>\u001b[0m     \u001b[39m# Convert the row to a pandas Series and check if all elements are numeric\u001b[39;00m\n\u001b[0;32m---> <a href='vscode-notebook-cell:/home/sifat/Desktop/SoumyaWorkspace/ShockSensorAnalysis/ExploratoryDataAnalysis.ipynb#X20sZmlsZQ%3D%3D?line=16'>17</a>\u001b[0m     \u001b[39mif\u001b[39;00m \u001b[39mall\u001b[39m(pd\u001b[39m.\u001b[39;49mto_numeric(data_elements, errors\u001b[39m=\u001b[39;49m\u001b[39m'\u001b[39;49m\u001b[39mcoerce\u001b[39;49m\u001b[39m'\u001b[39;49m)\u001b[39m.\u001b[39;49mnotnull()):\n\u001b[1;32m     <a href='vscode-notebook-cell:/home/sifat/Desktop/SoumyaWorkspace/ShockSensorAnalysis/ExploratoryDataAnalysis.ipynb#X20sZmlsZQ%3D%3D?line=17'>18</a>\u001b[0m         \u001b[39m# If all elements are numeric, keep the row\u001b[39;00m\n\u001b[1;32m     <a href='vscode-notebook-cell:/home/sifat/Desktop/SoumyaWorkspace/ShockSensorAnalysis/ExploratoryDataAnalysis.ipynb#X20sZmlsZQ%3D%3D?line=18'>19</a>\u001b[0m         cleaned_lines\u001b[39m.\u001b[39mappend(data_elements)\n\u001b[1;32m     <a href='vscode-notebook-cell:/home/sifat/Desktop/SoumyaWorkspace/ShockSensorAnalysis/ExploratoryDataAnalysis.ipynb#X20sZmlsZQ%3D%3D?line=19'>20</a>\u001b[0m     \u001b[39melse\u001b[39;00m:\n",
      "\u001b[0;31mAttributeError\u001b[0m: 'numpy.ndarray' object has no attribute 'notnull'"
     ]
    }
   ],
   "source": [
    "import pandas as pd\n",
    "\n",
    "# Replace 'your_data.txt' with the path to your data file\n",
    "with open('./Data/2/shock/shock_2023-05-10.log', 'r') as file:\n",
    "    lines = file.readlines()\n",
    "\n",
    "# Clean and process the lines\n",
    "cleaned_lines = []\n",
    "for line_idx, line in enumerate(lines):\n",
    "    line = line.strip()\n",
    "    if line:\n",
    "        # Split the line by semicolon ';'\n",
    "        data_elements = line.split(';')\n",
    "        # Check if the line has 8 elements (7 data columns + 1 timestamp)\n",
    "        if len(data_elements) == 8:\n",
    "            # Convert the row to a pandas Series and check if all elements are numeric\n",
    "            if all(pd.to_numeric(data_elements, errors='coerce').notnull()):\n",
    "                # If all elements are numeric, keep the row\n",
    "                cleaned_lines.append(data_elements)\n",
    "            else:\n",
    "                print(f\"Row {line_idx+1} has non-numeric data. Discarding the row.\")\n",
    "        else:\n",
    "            print(f\"Row {line_idx+1} does not have the correct number of columns. Discarding the row.\")\n",
    "\n",
    "# Check if the first column name is 'Timestamp'\n",
    "if cleaned_lines[0][0] != 'Timestamp':\n",
    "    # Change the column names accordingly\n",
    "    column_names = ['Timestamp', 'AccelX', 'AccelY', 'AccelZ', 'GyroX', 'GyroY', 'GyroZ', 'Temperature']\n",
    "else:\n",
    "    column_names = cleaned_lines[0]\n",
    "\n",
    "# Create a DataFrame from the cleaned data\n",
    "data_df = pd.DataFrame(cleaned_lines[1:], columns=column_names)\n",
    "\n",
    "# Convert the 'Timestamp' column to numeric (integer)\n",
    "data_df['Timestamp'] = pd.to_numeric(data_df['Timestamp'])\n",
    "\n",
    "# Now you can use the 'data_df' DataFrame for further analysis and processing\n"
   ]
  }
 ],
 "metadata": {
  "kernelspec": {
   "display_name": "venv",
   "language": "python",
   "name": "python3"
  },
  "language_info": {
   "codemirror_mode": {
    "name": "ipython",
    "version": 3
   },
   "file_extension": ".py",
   "mimetype": "text/x-python",
   "name": "python",
   "nbconvert_exporter": "python",
   "pygments_lexer": "ipython3",
   "version": "3.9.12"
  },
  "orig_nbformat": 4
 },
 "nbformat": 4,
 "nbformat_minor": 2
}
