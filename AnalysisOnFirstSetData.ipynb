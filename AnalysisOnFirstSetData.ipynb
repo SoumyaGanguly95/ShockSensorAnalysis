{
 "cells": [
  {
   "cell_type": "code",
   "execution_count": 1,
   "metadata": {},
   "outputs": [],
   "source": [
    "# Imports\n",
    "import matplotlib.pyplot as plt\n",
    "import numpy as np\n",
    "import pandas as pd\n",
    "import re\n",
    "from sklearn.cluster import KMeans\n",
    "import pykalman as pk"
   ]
  },
  {
   "cell_type": "code",
   "execution_count": 2,
   "metadata": {},
   "outputs": [
    {
     "name": "stdout",
     "output_type": "stream",
     "text": [
      "            Date      Time  Latitude  Longitude  Speed  TrackAngle\n",
      "6938  2023-04-20  00:00:00   58.3098    15.1327   2.42      340.11\n",
      "6939  2023-04-20  00:00:01   58.3098    15.1327   2.90      336.39\n",
      "6940  2023-04-20  00:00:02   58.3098    15.1326   3.53      348.29\n",
      "6941  2023-04-20  00:00:03   58.3099    15.1326   4.02      345.83\n",
      "6942  2023-04-20  00:00:04   58.3099    15.1326   4.54      343.28\n",
      "...          ...       ...       ...        ...    ...         ...\n",
      "83740 2023-04-20  21:59:08   59.5635    17.8822   0.66      286.10\n",
      "83741 2023-04-20  21:59:09   59.5635    17.8822   0.24      286.10\n",
      "83742 2023-04-20  21:59:10   59.5635    17.8822   0.21      286.10\n",
      "83743 2023-04-20  21:59:11   59.5635    17.8822   1.39      286.10\n",
      "83744 2023-04-20  21:59:12   59.5635    17.8822   0.05      286.10\n",
      "\n",
      "[76807 rows x 6 columns]\n"
     ]
    }
   ],
   "source": [
    "# Load the GPS data from the .log file\n",
    "data_gps1 = pd.read_csv('./Data/1/gps/gps_2023-04-20.log', sep=';')\n",
    "\n",
    "# Data cleaning and formatting\n",
    "data_gps1['Latitude'] = data_gps1['Latitude'].str.rstrip('N').astype(float)\n",
    "data_gps1['Longitude'] = data_gps1['Longitude'].str.rstrip('E').astype(float)\n",
    "data_gps1['Date'] = pd.to_datetime(data_gps1['Date'], format='%d/%m/%Y')\n",
    "data_gps1['Time'] = pd.to_datetime(data_gps1['Time'], format='%H:%M:%S').dt.time\n",
    "\n",
    "# Drop MagenticVariation column as it is not relevant to the problem\n",
    "data_gps1.drop(columns=['MagneticVariation'], inplace=True)\n",
    "\n",
    "# Filter rows where the date is '2023-04-20'\n",
    "data_gps1 = data_gps1[data_gps1['Date'] == '2023-04-20']\n",
    "\n",
    "print(data_gps1)\n"
   ]
  },
  {
   "cell_type": "code",
   "execution_count": 3,
   "metadata": {},
   "outputs": [
    {
     "name": "stdout",
     "output_type": "stream",
     "text": [
      "Summary Statistics:\n",
      "                      Date      Latitude     Longitude         Speed  \\\n",
      "count                76807  76807.000000  76807.000000  76807.000000   \n",
      "mean   2023-04-20 00:00:00     59.456417     17.416823      8.643521   \n",
      "min    2023-04-20 00:00:00     56.903300     14.561400      0.000000   \n",
      "25%    2023-04-20 00:00:00     59.402400     16.505200      0.260000   \n",
      "50%    2023-04-20 00:00:00     59.563400     17.882000      0.470000   \n",
      "75%    2023-04-20 00:00:00     59.563500     17.882100      1.000000   \n",
      "max    2023-04-20 00:00:00     59.655000     17.927000     55.920000   \n",
      "std                    NaN      0.261189      0.725303     17.414235   \n",
      "\n",
      "         TrackAngle  \n",
      "count  76807.000000  \n",
      "mean     170.024356  \n",
      "min        0.000000  \n",
      "25%       72.460000  \n",
      "50%      142.770000  \n",
      "75%      287.450000  \n",
      "max      359.990000  \n",
      "std      113.454766  \n"
     ]
    }
   ],
   "source": [
    "# Summary statistics\n",
    "print(\"Summary Statistics:\")\n",
    "print(data_gps1.describe())"
   ]
  },
  {
   "cell_type": "code",
   "execution_count": 4,
   "metadata": {},
   "outputs": [
    {
     "name": "stdout",
     "output_type": "stream",
     "text": [
      "           Date      Time  Latitude  Longitude  Speed  TrackAngle  \\\n",
      "6938 2023-04-20  00:00:00   58.3098    15.1327   2.42      340.11   \n",
      "6939 2023-04-20  00:00:01   58.3098    15.1327   2.90      336.39   \n",
      "6940 2023-04-20  00:00:02   58.3098    15.1326   3.53      348.29   \n",
      "6941 2023-04-20  00:00:03   58.3099    15.1326   4.02      345.83   \n",
      "6942 2023-04-20  00:00:04   58.3099    15.1326   4.54      343.28   \n",
      "...         ...       ...       ...        ...    ...         ...   \n",
      "6933        NaT       NaN       NaN        NaN    NaN         NaN   \n",
      "6934        NaT       NaN       NaN        NaN    NaN         NaN   \n",
      "6935        NaT       NaN       NaN        NaN    NaN         NaN   \n",
      "6936        NaT       NaN       NaN        NaN    NaN         NaN   \n",
      "6937        NaT       NaN       NaN        NaN    NaN         NaN   \n",
      "\n",
      "      FilteredLatitude  FilteredLongitude  \n",
      "6938         60.514960          16.425973  \n",
      "6939         60.515169          16.426073  \n",
      "6940         60.515377          16.426080  \n",
      "6941         60.515578          16.426081  \n",
      "6942         60.515870          16.426082  \n",
      "...                ...                ...  \n",
      "6933         60.513909          16.425377  \n",
      "6934         60.514119          16.425568  \n",
      "6935         60.514334          16.425675  \n",
      "6936         60.514543          16.425775  \n",
      "6937         60.514752          16.425874  \n",
      "\n",
      "[83745 rows x 8 columns]\n"
     ]
    }
   ],
   "source": [
    "# Apply the Kalman Filter using pykalman\n",
    "def apply_kalman_filter(data, measurement_noise, initial_state_covariance):\n",
    "    # Prepare data for filtering\n",
    "    measurements = data[['Latitude', 'Longitude']].values\n",
    "\n",
    "    # Initial state mean\n",
    "    initial_state_mean = measurements[0]\n",
    "\n",
    "    # Define the Kalman Filter model\n",
    "    kf = pk.KalmanFilter(transition_matrices=np.array([[1., 1.], [0., 1.]]),\n",
    "                         observation_matrices=np.array([[1., 0.], [0., 1.]]),\n",
    "                         initial_state_mean=initial_state_mean,\n",
    "                         initial_state_covariance=initial_state_covariance,\n",
    "                         observation_covariance=np.eye(2) * measurement_noise)\n",
    "\n",
    "    # Perform the Kalman filtering\n",
    "    filtered_states, _ = kf.filter(measurements)\n",
    "\n",
    "    # Extract filtered latitude and longitude\n",
    "    filtered_latitude = filtered_states[:, 0]\n",
    "    filtered_longitude = filtered_states[:, 1]\n",
    "\n",
    "    return pd.DataFrame({'FilteredLatitude': filtered_latitude, 'FilteredLongitude': filtered_longitude})\n",
    "\n",
    "# Set the measurement noise (you may need to adjust this based on the noise level in your data)\n",
    "measurement_noise = 0.1\n",
    "\n",
    "# Set the initial state covariance (adjust based on your knowledge about the initial state uncertainty)\n",
    "initial_state_covariance = np.diag([1.0, 1.0])\n",
    "\n",
    "# Apply the Kalman Filter using pykalman\n",
    "filtered_data = apply_kalman_filter(data_gps1, measurement_noise, initial_state_covariance)\n",
    "\n",
    "# Merge the filtered data with the original data\n",
    "data_gps1 = pd.concat([data_gps1, filtered_data], axis=1)\n",
    "\n",
    "print(data_gps1)\n"
   ]
  },
  {
   "cell_type": "code",
   "execution_count": 5,
   "metadata": {},
   "outputs": [
    {
     "name": "stdout",
     "output_type": "stream",
     "text": [
      "               Date             Time    AccelX    AccelY     AccelZ     GyroX  \\\n",
      "0        1970-01-01  00:28:01.941595 -0.599752  0.065531  10.419545 -0.013439   \n",
      "1        1970-01-01  00:28:01.941740 -0.069945  0.000499  10.019079 -0.023518   \n",
      "2        1970-01-01  00:28:01.941740 -0.445631 -0.054700   9.785857 -0.022907   \n",
      "3        1970-01-01  00:28:01.941740 -0.442073 -0.130693   9.712997  0.000916   \n",
      "4        1970-01-01  00:28:01.941740 -0.094992  0.030634   9.786232  0.016799   \n",
      "...             ...              ...       ...       ...        ...       ...   \n",
      "1898344  1970-01-01  00:28:02.027999  0.069265 -0.064725   9.843576 -0.000305   \n",
      "1898345  1970-01-01  00:28:02.027999  0.067974 -0.063557   9.842454 -0.000305   \n",
      "1898346  1970-01-01  00:28:02.027999  0.070460 -0.067118   9.843538  0.000000   \n",
      "1898347  1970-01-01  00:28:02.027999  0.065394 -0.063613   9.840264 -0.000305   \n",
      "1898348  1970-01-01  00:28:02.027999  0.065498 -0.069564   9.841603  0.000000   \n",
      "\n",
      "            GyroY     GyroZ  Temperature  \n",
      "0       -0.003665 -0.005803         29.0  \n",
      "1        0.004581 -0.007636         29.0  \n",
      "2       -0.002138 -0.007330         29.0  \n",
      "3       -0.001833 -0.007025         29.0  \n",
      "4        0.000916 -0.006720         29.0  \n",
      "...           ...       ...          ...  \n",
      "1898344 -0.002138 -0.006109         30.0  \n",
      "1898345 -0.002138 -0.006109         30.0  \n",
      "1898346 -0.002138 -0.006109         30.0  \n",
      "1898347 -0.002138 -0.006109         30.0  \n",
      "1898348 -0.002443 -0.006109         30.0  \n",
      "\n",
      "[1898349 rows x 9 columns]\n"
     ]
    }
   ],
   "source": [
    "# Load the Shock data\n",
    "data_shock1 = pd.read_csv('./Data/1/shock/shock_2023-04-20.log', sep=';', header=None)\n",
    "\n",
    "# Add column headers\n",
    "data_shock1.columns = ['Timestamp', 'AccelX', 'AccelY', 'AccelZ', 'GyroX', 'GyroY', 'GyroZ', 'Temperature']\n",
    "\n",
    "# Convert timestamp to datetime format\n",
    "data_shock1['Timestamp'] = pd.to_datetime(data_shock1['Timestamp'], unit='ns')\n",
    "\n",
    "# Extract Date and Time from Timestamp\n",
    "data_shock1['Date'] = data_shock1['Timestamp'].dt.date\n",
    "data_shock1['Time'] = data_shock1['Timestamp'].dt.time\n",
    "\n",
    "# Drop the original Timestamp column\n",
    "data_shock1.drop(columns=['Timestamp'], inplace=True)\n",
    "\n",
    "# Reorder the columns (optional)\n",
    "data_shock1 = data_shock1[['Date', 'Time', 'AccelX', 'AccelY', 'AccelZ', 'GyroX', 'GyroY', 'GyroZ', 'Temperature']]\n",
    "\n",
    "# Display the cleaned data\n",
    "print(data_shock1)\n"
   ]
  },
  {
   "cell_type": "code",
   "execution_count": 6,
   "metadata": {},
   "outputs": [
    {
     "name": "stdout",
     "output_type": "stream",
     "text": [
      "              Date             Time    AccelX    AccelY     AccelZ     GyroX  \\\n",
      "0       2023-04-20  00:28:01.941595 -0.599752  0.065531  10.419545 -0.013439   \n",
      "1       2023-04-20  00:28:01.941740 -0.069945  0.000499  10.019079 -0.023518   \n",
      "2       2023-04-20  00:28:01.941740 -0.445631 -0.054700   9.785857 -0.022907   \n",
      "3       2023-04-20  00:28:01.941740 -0.442073 -0.130693   9.712997  0.000916   \n",
      "4       2023-04-20  00:28:01.941740 -0.094992  0.030634   9.786232  0.016799   \n",
      "...            ...              ...       ...       ...        ...       ...   \n",
      "1898344 2023-04-20  00:28:02.027999  0.069265 -0.064725   9.843576 -0.000305   \n",
      "1898345 2023-04-20  00:28:02.027999  0.067974 -0.063557   9.842454 -0.000305   \n",
      "1898346 2023-04-20  00:28:02.027999  0.070460 -0.067118   9.843538  0.000000   \n",
      "1898347 2023-04-20  00:28:02.027999  0.065394 -0.063613   9.840264 -0.000305   \n",
      "1898348 2023-04-20  00:28:02.027999  0.065498 -0.069564   9.841603  0.000000   \n",
      "\n",
      "            GyroY     GyroZ  Temperature  \n",
      "0       -0.003665 -0.005803         29.0  \n",
      "1        0.004581 -0.007636         29.0  \n",
      "2       -0.002138 -0.007330         29.0  \n",
      "3       -0.001833 -0.007025         29.0  \n",
      "4        0.000916 -0.006720         29.0  \n",
      "...           ...       ...          ...  \n",
      "1898344 -0.002138 -0.006109         30.0  \n",
      "1898345 -0.002138 -0.006109         30.0  \n",
      "1898346 -0.002138 -0.006109         30.0  \n",
      "1898347 -0.002138 -0.006109         30.0  \n",
      "1898348 -0.002443 -0.006109         30.0  \n",
      "\n",
      "[1898349 rows x 9 columns]\n"
     ]
    }
   ],
   "source": [
    "# Note: From this data we can observe that shock data recor year is 1970. And GPS Data record date is 2023. It doesnot make sense.\n",
    "# Hence converting the date to 2023-04-20\n",
    "\n",
    "# Convert '1970-01-01' to '2023-04-20'\n",
    "data_shock1['Date'] = data_shock1['Date'].apply(lambda x: x + pd.DateOffset(days=19467))\n",
    "\n",
    "# Display the cleaned data\n",
    "print(data_shock1)\n"
   ]
  },
  {
   "cell_type": "code",
   "execution_count": 7,
   "metadata": {},
   "outputs": [
    {
     "name": "stdout",
     "output_type": "stream",
     "text": [
      "              Date             Time    AccelX    AccelY     AccelZ     GyroX  \\\n",
      "0       2023-04-20  00:28:01.941595 -0.599752  0.065531  10.419545 -0.013439   \n",
      "1       2023-04-20  00:28:01.941740 -0.069945  0.000499  10.019079 -0.023518   \n",
      "2       2023-04-20  00:28:01.941740 -0.445631 -0.054700   9.785857 -0.022907   \n",
      "3       2023-04-20  00:28:01.941740 -0.442073 -0.130693   9.712997  0.000916   \n",
      "4       2023-04-20  00:28:01.941740 -0.094992  0.030634   9.786232  0.016799   \n",
      "...            ...              ...       ...       ...        ...       ...   \n",
      "1898344 2023-04-20  00:28:02.027999  0.069265 -0.064725   9.843576 -0.000305   \n",
      "1898345 2023-04-20  00:28:02.027999  0.067974 -0.063557   9.842454 -0.000305   \n",
      "1898346 2023-04-20  00:28:02.027999  0.070460 -0.067118   9.843538  0.000000   \n",
      "1898347 2023-04-20  00:28:02.027999  0.065394 -0.063613   9.840264 -0.000305   \n",
      "1898348 2023-04-20  00:28:02.027999  0.065498 -0.069564   9.841603  0.000000   \n",
      "\n",
      "            GyroY     GyroZ  Temperature  FilteredAccelX  FilteredAccelY  \\\n",
      "0       -0.003665 -0.005803         29.0       -0.599752        0.065531   \n",
      "1        0.004581 -0.007636         29.0       -0.075144        0.001137   \n",
      "2       -0.002138 -0.007330         29.0       -0.441998       -0.054153   \n",
      "3       -0.001833 -0.007025         29.0       -0.442072       -0.129943   \n",
      "4        0.000916 -0.006720         29.0       -0.098395        0.029060   \n",
      "...           ...       ...          ...             ...             ...   \n",
      "1898344 -0.002138 -0.006109         30.0        0.069239       -0.064749   \n",
      "1898345 -0.002138 -0.006109         30.0        0.067986       -0.063569   \n",
      "1898346 -0.002138 -0.006109         30.0        0.070436       -0.067083   \n",
      "1898347 -0.002138 -0.006109         30.0        0.065443       -0.063647   \n",
      "1898348 -0.002443 -0.006109         30.0        0.065497       -0.069506   \n",
      "\n",
      "         FilteredAccelZ  \n",
      "0             10.419545  \n",
      "1             10.023009  \n",
      "2              9.788182  \n",
      "3              9.713734  \n",
      "4              9.785521  \n",
      "...                 ...  \n",
      "1898344        9.843543  \n",
      "1898345        9.842465  \n",
      "1898346        9.843527  \n",
      "1898347        9.840296  \n",
      "1898348        9.841590  \n",
      "\n",
      "[1898349 rows x 12 columns]\n"
     ]
    }
   ],
   "source": [
    "# Apply the Kalman Filter using pykalman\n",
    "def apply_kalman_filter(data, measurement_noise, initial_state_covariance):\n",
    "    # Prepare measurements for filtering (select the accelerometer columns)\n",
    "    measurements = data[['AccelX', 'AccelY', 'AccelZ']].values\n",
    "\n",
    "    # Initial state mean (assumed to be the first accelerometer reading)\n",
    "    initial_state_mean = measurements[0]\n",
    "\n",
    "    # Define the Kalman Filter model\n",
    "    kf = pk.KalmanFilter(transition_matrices=np.eye(3),  # Identity matrix (no change in state)\n",
    "                         observation_matrices=np.eye(3),  # Identity matrix (directly measured)\n",
    "                         initial_state_mean=initial_state_mean,\n",
    "                         initial_state_covariance=initial_state_covariance,\n",
    "                         observation_covariance=np.eye(3) * measurement_noise)\n",
    "\n",
    "    # Perform the Kalman filtering\n",
    "    filtered_states, _ = kf.filter(measurements)\n",
    "\n",
    "    # Update the DataFrame with the filtered accelerometer values\n",
    "    data[['FilteredAccelX', 'FilteredAccelY', 'FilteredAccelZ']] = filtered_states\n",
    "\n",
    "    return data\n",
    "\n",
    "# Set the measurement noise (you may need to adjust this based on the noise level in your data)\n",
    "measurement_noise = 0.01  # Hypothetical value, adjust as needed\n",
    "\n",
    "# Set the initial state covariance (adjust based on your knowledge about the initial state uncertainty)\n",
    "initial_state_covariance = np.eye(3) * 0.1  # Hypothetical value, adjust as needed\n",
    "\n",
    "# Apply the Kalman Filter using pykalman\n",
    "data_shock1 = apply_kalman_filter(data_shock1, measurement_noise, initial_state_covariance)\n",
    "\n",
    "# Display the DataFrame with the filtered accelerometer values\n",
    "print(data_shock1)"
   ]
  },
  {
   "cell_type": "code",
   "execution_count": 8,
   "metadata": {},
   "outputs": [],
   "source": [
    "# GPS data set 1 merged with shock data set 1 on basis of 'Date' and 'Time'\n",
    "data_combined = pd.merge(data_gps1, data_shock1, on=['Date', 'Time'], how='inner')\n"
   ]
  },
  {
   "cell_type": "code",
   "execution_count": 15,
   "metadata": {},
   "outputs": [
    {
     "name": "stderr",
     "output_type": "stream",
     "text": [
      "d:\\MyWorkspace\\ShockSensorAnalysis\\venv\\lib\\site-packages\\sklearn\\base.py:1151: ConvergenceWarning: Number of distinct clusters (1) found smaller than n_clusters (2). Possibly due to duplicate points in X.\n",
      "  return fit_method(estimator, *args, **kwargs)\n"
     ]
    }
   ],
   "source": [
    "from sklearn.cluster import KMeans\n",
    "\n",
    "# Select the features for clustering (FilteredLatitude and FilteredLongitude)\n",
    "features_for_clustering = data_combined[['FilteredLatitude', 'FilteredLongitude']]\n",
    "\n",
    "# Perform KMeans clustering with 4 clusters (you can adjust the number of clusters as needed)\n",
    "num_clusters = 2\n",
    "kmeans = KMeans(n_clusters=num_clusters, n_init=10, random_state=42)\n",
    "data_combined['Cluster'] = kmeans.fit_predict(features_for_clustering)\n"
   ]
  },
  {
   "cell_type": "code",
   "execution_count": 13,
   "metadata": {},
   "outputs": [
    {
     "data": {
      "image/png": "[encoded data removed]",
      "text/plain": [
       "<Figure size 1000x600 with 1 Axes>"
      ]
     },
     "metadata": {},
     "output_type": "display_data"
    }
   ],
   "source": [
    "# Scatter plot with different colors for each cluster\n",
    "plt.figure(figsize=(10, 6))\n",
    "for cluster_num in range(num_clusters):\n",
    "    cluster_data = data_combined[data_combined['Cluster'] == cluster_num]\n",
    "    plt.scatter(cluster_data['FilteredLongitude'], cluster_data['FilteredLatitude'], label=f'Cluster {cluster_num}')\n",
    "\n",
    "plt.xlabel('Longitude')\n",
    "plt.ylabel('Latitude')\n",
    "plt.title('Trailer Movement Clusters')\n",
    "plt.legend()\n",
    "plt.show()\n"
   ]
  },
  {
   "cell_type": "code",
   "execution_count": 14,
   "metadata": {},
   "outputs": [
    {
     "data": {
      "image/png": "[encoded data removed]",
      "text/plain": [
       "<Figure size 1000x600 with 2 Axes>"
      ]
     },
     "metadata": {},
     "output_type": "display_data"
    }
   ],
   "source": [
    "# Plot GPS coordinates over time\n",
    "plt.figure(figsize=(10, 6))\n",
    "plt.scatter(data_combined['FilteredLongitude'], data_combined['FilteredLatitude'], c=data_combined['Speed'], cmap='viridis', alpha=0.5)\n",
    "plt.colorbar(label='Speed (m/s)')\n",
    "plt.xlabel('Longitude')\n",
    "plt.ylabel('Latitude')\n",
    "plt.title('Trailer Movement')\n",
    "plt.show()\n"
   ]
  },
  {
   "cell_type": "code",
   "execution_count": 12,
   "metadata": {},
   "outputs": [
    {
     "data": {
      "image/png": "[encoded data removed]",
      "text/plain": [
       "<Figure size 1000x600 with 1 Axes>"
      ]
     },
     "metadata": {},
     "output_type": "display_data"
    }
   ],
   "source": [
    "from sklearn.cluster import DBSCAN\n",
    "\n",
    "# Perform DBSCAN clustering\n",
    "dbscan = DBSCAN(eps=0.1, min_samples=5)\n",
    "data_combined['DBSCAN_Cluster'] = dbscan.fit_predict(features_for_clustering)\n",
    "\n",
    "# Visualize DBSCAN clusters\n",
    "plt.figure(figsize=(10, 6))\n",
    "for cluster_num in data_combined['DBSCAN_Cluster'].unique():\n",
    "    if cluster_num == -1:\n",
    "        continue  # Skip noise points\n",
    "    cluster_data = data_combined[data_combined['DBSCAN_Cluster'] == cluster_num]\n",
    "    plt.scatter(cluster_data['FilteredLongitude'], cluster_data['FilteredLatitude'], label=f'Cluster {cluster_num}')\n",
    "\n",
    "plt.xlabel('Longitude')\n",
    "plt.ylabel('Latitude')\n",
    "plt.title('Trailer Movement Clusters (DBSCAN)')\n",
    "plt.legend()\n",
    "plt.show()\n"
   ]
  },
  {
   "cell_type": "code",
   "execution_count": null,
   "metadata": {},
   "outputs": [],
   "source": [
    "# Note: I am not sure whether the data handling was not as per the standards. But considering the results I have received\n",
    "# it can be interpreted that\n",
    "# 1. The trailer was in uniform motion.\n",
    "# 2. The trailer was relocated using a single transportation mode; train or road. \n"
   ]
  }
 ],
 "metadata": {
  "kernelspec": {
   "display_name": "venv",
   "language": "python",
   "name": "python3"
  },
  "language_info": {
   "codemirror_mode": {
    "name": "ipython",
    "version": 3
   },
   "file_extension": ".py",
   "mimetype": "text/x-python",
   "name": "python",
   "nbconvert_exporter": "python",
   "pygments_lexer": "ipython3",
   "version": "3.9.13"
  },
  "orig_nbformat": 4
 },
 "nbformat": 4,
 "nbformat_minor": 2
}
